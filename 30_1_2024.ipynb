{
  "nbformat": 4,
  "nbformat_minor": 0,
  "metadata": {
    "colab": {
      "provenance": [],
      "authorship_tag": "ABX9TyO00AXqisA9+IM1UGlCJmGq",
      "include_colab_link": true
    },
    "kernelspec": {
      "name": "python3",
      "display_name": "Python 3"
    },
    "language_info": {
      "name": "python"
    }
  },
  "cells": [
    {
      "cell_type": "markdown",
      "metadata": {
        "id": "view-in-github",
        "colab_type": "text"
      },
      "source": [
        "<a href=\"https://colab.research.google.com/github/LAKSHMIROHI/AI_ML_Avanthi_Rohitha/blob/main/30_1_2024.ipynb\" target=\"_parent\"><img src=\"https://colab.research.google.com/assets/colab-badge.svg\" alt=\"Open In Colab\"/></a>"
      ]
    },
    {
      "cell_type": "code",
      "execution_count": null,
      "metadata": {
        "colab": {
          "base_uri": "https://localhost:8080/"
        },
        "id": "9QN2A9wxyXO_",
        "outputId": "e602f688-938b-40cf-ac10-8ec593e29d52"
      },
      "outputs": [
        {
          "output_type": "stream",
          "name": "stdout",
          "text": [
            "[3, 5, 8, 13, 21]\n",
            "[1, 5, 6, 18, 4]\n",
            "[3, 5, 8, 13, 21, 1, 5, 6, 18, 4]\n"
          ]
        }
      ],
      "source": [
        "#half ascending half descending\n",
        "n=[3,5,8,21,13,1,5,6,18,4]\n",
        "num1=n[0:5]\n",
        "num1.sort()\n",
        "num2=n[5:10]\n",
        "print(num1)\n",
        "print(num2)\n",
        "num1+=num2\n",
        "print(num1)"
      ]
    },
    {
      "cell_type": "code",
      "source": [
        "#distinct values\n",
        "n=[3,5,6,3,3,5,5,6,3,6,1]\n",
        "x=set(n)\n",
        "print(x)"
      ],
      "metadata": {
        "colab": {
          "base_uri": "https://localhost:8080/"
        },
        "id": "Uz9n_O_268Ii",
        "outputId": "5e6fdbc6-bbe1-42ae-9fe6-a596008e734f"
      },
      "execution_count": null,
      "outputs": [
        {
          "output_type": "stream",
          "name": "stdout",
          "text": [
            "{1, 3, 5, 6}\n"
          ]
        }
      ]
    },
    {
      "cell_type": "code",
      "source": [
        "#sum of even values in a list\n",
        "x=[1,32,24,13,97,1,8,14,99,34,5,56,8,23]\n",
        "sum=0\n",
        "for i in x:\n",
        "    if i%2==0:\n",
        "     sum+=i\n",
        "print(sum)"
      ],
      "metadata": {
        "colab": {
          "base_uri": "https://localhost:8080/"
        },
        "id": "mlixImeP8zid",
        "outputId": "08550e95-1bee-4cb4-987d-22bb003d6c8e"
      },
      "execution_count": null,
      "outputs": [
        {
          "output_type": "stream",
          "name": "stdout",
          "text": [
            "176\n"
          ]
        }
      ]
    },
    {
      "cell_type": "code",
      "source": [
        "#even odd replace\n",
        "x=[1,32,24,13,97,1,8,14,99,34,5,56,8,23]\n",
        "for i in range(len(x)):\n",
        "   if x[i]%2==0:\n",
        "      for j in range(i+1,len(x)):\n",
        "       if x[j]%2==1:\n",
        "        x[i]=x[j]\n",
        "        break\n",
        "   else:\n",
        "    for j in range(i+1,len(x)):\n",
        "      if x[j]%2==0:\n",
        "        x[i]=x[j]\n",
        "        break\n",
        "print(x)"
      ],
      "metadata": {
        "id": "jetxqxHSArDR",
        "colab": {
          "base_uri": "https://localhost:8080/"
        },
        "outputId": "9efc7d1b-f1f7-4498-bf96-1152ac7019bc"
      },
      "execution_count": 63,
      "outputs": [
        {
          "output_type": "stream",
          "name": "stdout",
          "text": [
            "[32, 13, 13, 8, 8, 8, 99, 99, 34, 5, 56, 23, 23, 23]\n"
          ]
        }
      ]
    },
    {
      "cell_type": "code",
      "source": [
        "#create dict  `\n",
        "my_dict={\n",
        "    \"Name\":\"candy\",\n",
        "    \"Age\":12,\n",
        "    \"Phone number\":123456789,\n",
        "    \"Favourite food\":\"pedigree\"\n",
        "    }\n",
        "print(\"original dictionary:\",my_dict)"
      ],
      "metadata": {
        "colab": {
          "base_uri": "https://localhost:8080/"
        },
        "id": "vp26keVrjTcT",
        "outputId": "50623b38-ccbb-431a-9d0b-bc710618f812"
      },
      "execution_count": 12,
      "outputs": [
        {
          "output_type": "stream",
          "name": "stdout",
          "text": [
            "original dictionary: {'Name': 'candy', 'Age': 12, 'Phone number': 123456789, 'Favourite food': 'pedigree'}\n"
          ]
        }
      ]
    },
    {
      "cell_type": "code",
      "source": [
        "#count the no.of times number repeat\n",
        "x=[3,3,5,5,3,3,7,7,5,3,7,5]\n",
        "dict={}\n",
        "distinct=set(x)\n",
        "for i in distinct:\n",
        "  dict[i]=0\n",
        "for i in range(len(x)):\n",
        "     dict[x[i]]+=1\n",
        "print(dict)"
      ],
      "metadata": {
        "colab": {
          "base_uri": "https://localhost:8080/"
        },
        "id": "g-W70lQnl1Wq",
        "outputId": "c78f7ccb-5607-4d07-9a10-dd1d1bcbd3cf"
      },
      "execution_count": 65,
      "outputs": [
        {
          "output_type": "stream",
          "name": "stdout",
          "text": [
            "{3: 5, 5: 4, 7: 3}\n"
          ]
        }
      ]
    },
    {
      "cell_type": "code",
      "source": [
        "#add and multiply  and add\n",
        "x=[3,6,8,21,5,7,24,31,0,61]\n",
        "new_list=[]\n",
        "final=[]\n",
        "for i in range(len(x)-1):\n",
        "  new_list.append(x[i]+x[i+1])\n",
        "for i in range(len(new_list)-1):\n",
        "    final.append(new_list[i]*new_list[i+1])\n",
        "    sum=0\n",
        "for i in final:\n",
        "    sum+=i\n",
        "print(new_list)\n",
        "print(final)\n",
        "print(sum)"
      ],
      "metadata": {
        "colab": {
          "base_uri": "https://localhost:8080/"
        },
        "id": "1COtffRds-Kw",
        "outputId": "bace29b0-54c2-43b8-ff23-77fa68d6934e"
      },
      "execution_count": 64,
      "outputs": [
        {
          "output_type": "stream",
          "name": "stdout",
          "text": [
            "[9, 14, 29, 26, 12, 31, 55, 31, 61]\n",
            "[126, 406, 754, 312, 372, 1705, 1705, 1891]\n",
            "7271\n"
          ]
        }
      ]
    }
  ]
}