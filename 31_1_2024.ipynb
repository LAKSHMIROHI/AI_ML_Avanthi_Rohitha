{
  "cells": [
    {
      "cell_type": "markdown",
      "metadata": {
        "id": "view-in-github",
        "colab_type": "text"
      },
      "source": [
        "<a href=\"https://colab.research.google.com/github/LAKSHMIROHI/AI_ML_Avanthi_Rohitha/blob/main/31_1_2024.ipynb\" target=\"_parent\"><img src=\"https://colab.research.google.com/assets/colab-badge.svg\" alt=\"Open In Colab\"/></a>"
      ]
    },
    {
      "cell_type": "code",
      "execution_count": null,
      "metadata": {
        "colab": {
          "base_uri": "https://localhost:8080/"
        },
        "id": "sq87PI1SIZr-",
        "outputId": "82489d9f-a73a-4209-e6ae-2ff7b261fb0e"
      },
      "outputs": [
        {
          "name": "stdout",
          "output_type": "stream",
          "text": [
            "dairymilk\n",
            "snickers\n",
            "milkybar\n",
            "KitKat\n"
          ]
        }
      ],
      "source": [
        "#functions\n",
        "def chocolates():\n",
        "  print(\"dairymilk\")\n",
        "  print(\"snickers\")\n",
        "  print(\"milkybar\")\n",
        "chocolates()\n",
        "print(\"KitKat\")\n"
      ]
    },
    {
      "cell_type": "code",
      "execution_count": null,
      "metadata": {
        "colab": {
          "base_uri": "https://localhost:8080/"
        },
        "id": "FIqTfgdIInGy",
        "outputId": "99c36a50-6e3c-4b62-e050-975907109897"
      },
      "outputs": [
        {
          "name": "stdout",
          "output_type": "stream",
          "text": [
            "Good\n",
            "Good\n",
            "Bad\n"
          ]
        }
      ],
      "source": [
        "#both a and b can be used\n",
        "def number (a):\n",
        "  if a>=5:\n",
        "    print(\"Good\")\n",
        "  else:\n",
        "    print(\"Bad\")\n",
        "b=5\n",
        "number(b)\n",
        "b=10\n",
        "number(b)\n",
        "b=1\n",
        "number(b)\n"
      ]
    },
    {
      "cell_type": "code",
      "execution_count": null,
      "metadata": {
        "colab": {
          "base_uri": "https://localhost:8080/"
        },
        "id": "yJa1Tyi9Inwl",
        "outputId": "4e7ff23f-da6b-42e8-bbe5-944f4e424f4d"
      },
      "outputs": [
        {
          "name": "stdout",
          "output_type": "stream",
          "text": [
            "5\n",
            "6\n"
          ]
        }
      ],
      "source": [
        "#parameters\n",
        "def number(a,b):\n",
        "  print(a)\n",
        "  print(b)\n",
        "a=5\n",
        "b=6\n",
        "number(a,b)\n"
      ]
    },
    {
      "cell_type": "code",
      "execution_count": null,
      "metadata": {
        "colab": {
          "background_save": true,
          "base_uri": "https://localhost:8080/"
        },
        "id": "WPsM3dsaInzX",
        "outputId": "8cc81a05-ec28-4f26-f1b3-16cefa3adc8f"
      },
      "outputs": [
        {
          "name": "stdout",
          "output_type": "stream",
          "text": [
            "O\n",
            "fail \n",
            "D+\n",
            "B+\n",
            "A+\n"
          ]
        }
      ],
      "source": [
        "#write a function to calculate the grades of a student based on their marks\n",
        "def grade():\n",
        "   marks=int(input(\"enter the marks\"))\n",
        "   if marks>=90 and marks<=100:\n",
        "      print(\"O\")\n",
        "   elif marks>=80 and marks<=89:\n",
        "      print(\"A+\")\n",
        "   elif marks>=70 and marks<=79:\n",
        "      print(\"B+\")\n",
        "   elif marks>=60 and marks<=69:\n",
        "      print(\"C+\")\n",
        "   elif marks>=50 and marks<=59:\n",
        "      print(\"D+\")\n",
        "   else:\n",
        "      print(\"fail \")\n",
        "for i in range(10):\n",
        "  grade()\n"
      ]
    },
    {
      "cell_type": "code",
      "execution_count": 7,
      "metadata": {
        "id": "XgLXq7PEIn2v",
        "colab": {
          "base_uri": "https://localhost:8080/",
          "height": 140
        },
        "outputId": "8d6464ca-a519-4d78-ba81-53f80533c133"
      },
      "outputs": [
        {
          "output_type": "error",
          "ename": "IndentationError",
          "evalue": "unexpected indent (<ipython-input-7-9ed367af7deb>, line 4)",
          "traceback": [
            "\u001b[0;36m  File \u001b[0;32m\"<ipython-input-7-9ed367af7deb>\"\u001b[0;36m, line \u001b[0;32m4\u001b[0m\n\u001b[0;31m    for i in range(1 to 5):\u001b[0m\n\u001b[0m    ^\u001b[0m\n\u001b[0;31mIndentationError\u001b[0m\u001b[0;31m:\u001b[0m unexpected indent\n"
          ]
        }
      ],
      "source": [
        "#1,2,3..... Numbers printing\n",
        "def number():\n",
        "  count=1\n",
        "  for i in range(1 to 5):\n",
        "  for j in range(i):\n",
        "   print(count end =\"\")\n",
        "   count ++=1\n",
        "print(\"\\n\")\n"
      ]
    },
    {
      "cell_type": "code",
      "execution_count": 2,
      "metadata": {
        "id": "zlWoyjaIJQNn",
        "colab": {
          "base_uri": "https://localhost:8080/"
        },
        "outputId": "d68ad011-ded8-4266-9449-d1615ecbbd75"
      },
      "outputs": [
        {
          "output_type": "stream",
          "name": "stdout",
          "text": [
            "********\n",
            "\n",
            "******\n",
            "\n",
            "****\n",
            "\n",
            "**\n",
            "\n"
          ]
        }
      ],
      "source": [
        "#star sums.....4,3,2,1...\n",
        "for i in range(4,0,-1):\n",
        "  for j in range(i):\n",
        "    print(\"*\",end=\"*\")\n",
        "  print(\"\\n\")\n"
      ]
    }
  ],
  "metadata": {
    "colab": {
      "provenance": [],
      "authorship_tag": "ABX9TyOPNlhoIXQOWLaEnLMZn9gy",
      "include_colab_link": true
    },
    "kernelspec": {
      "display_name": "Python 3",
      "name": "python3"
    },
    "language_info": {
      "name": "python"
    }
  },
  "nbformat": 4,
  "nbformat_minor": 0
}