{
  "nbformat": 4,
  "nbformat_minor": 0,
  "metadata": {
    "colab": {
      "provenance": [],
      "authorship_tag": "ABX9TyPZc4UCcgo5H9VOyIvLuoAJ",
      "include_colab_link": true
    },
    "kernelspec": {
      "name": "python3",
      "display_name": "Python 3"
    },
    "language_info": {
      "name": "python"
    }
  },
  "cells": [
    {
      "cell_type": "markdown",
      "metadata": {
        "id": "view-in-github",
        "colab_type": "text"
      },
      "source": [
        "<a href=\"https://colab.research.google.com/github/LAKSHMIROHI/AI_ML_Avanthi_Rohitha/blob/main/29_1_2024.ipynb\" target=\"_parent\"><img src=\"https://colab.research.google.com/assets/colab-badge.svg\" alt=\"Open In Colab\"/></a>"
      ]
    },
    {
      "cell_type": "code",
      "execution_count": null,
      "metadata": {
        "id": "Eogb1YIScCRJ",
        "colab": {
          "base_uri": "https://localhost:8080/"
        },
        "outputId": "3411bbda-2347-4691-ca7a-46a03e0e4f33"
      },
      "outputs": [
        {
          "output_type": "stream",
          "name": "stdout",
          "text": [
            "Enter a number20\n",
            "not a perfect square\n"
          ]
        }
      ],
      "source": [
        "#perfect square\n",
        "n=int(input(\"Enter a number\"))\n",
        "factors=0\n",
        "for i in range(1,n+1):\n",
        "    if n%i==0:\n",
        "        factors+=1\n",
        "if factors%2==0:\n",
        "     print(\"not a perfect square\")\n",
        "else:\n",
        "     print(\"perfect square\")"
      ]
    },
    {
      "cell_type": "code",
      "source": [
        "#prime number with in range\n",
        "n=int(input(\"Enter a upper bound  number\"))\n",
        "m=int(input(\"Enter a lower bound number\"))\n",
        "for i in range(n,m+1):\n",
        "    factors=0\n",
        "    for j in range(1,i+1):\n",
        "        if i%j==0:\n",
        "            factors+=1\n",
        "    if factors<=2:\n",
        "        print(j)"
      ],
      "metadata": {
        "colab": {
          "base_uri": "https://localhost:8080/"
        },
        "id": "GKGMoqD4cFA9",
        "outputId": "b06d101c-ea2a-4f65-91bc-36a1546d936e"
      },
      "execution_count": null,
      "outputs": [
        {
          "output_type": "stream",
          "name": "stdout",
          "text": [
            "Enter a upper bound  number1\n",
            "Enter a lower bound number10\n",
            "1\n",
            "2\n",
            "3\n",
            "5\n",
            "7\n"
          ]
        }
      ]
    },
    {
      "cell_type": "code",
      "source": [
        "#factorial\n",
        "n=int(input(\"Enter a number\"))\n",
        "factorial=1\n",
        "for i in range(1,n+1):\n",
        "    factorial*=i\n",
        "    print(factorial)"
      ],
      "metadata": {
        "colab": {
          "base_uri": "https://localhost:8080/"
        },
        "id": "ylVU0R1Jh8i2",
        "outputId": "b634440b-9d98-4c40-e495-e0400290244a"
      },
      "execution_count": null,
      "outputs": [
        {
          "output_type": "stream",
          "name": "stdout",
          "text": [
            "Enter a number5\n",
            "1\n",
            "2\n",
            "6\n",
            "24\n",
            "120\n"
          ]
        }
      ]
    },
    {
      "cell_type": "code",
      "source": [
        "#sum of n natural numbers\n",
        "n=int(input(\"Enter a number\"))\n",
        "sum=((n*(n+1)/2))\n",
        "print(sum)"
      ],
      "metadata": {
        "colab": {
          "base_uri": "https://localhost:8080/"
        },
        "id": "bI8PUPLlicLR",
        "outputId": "29bc8bd7-6b16-47d0-b8e0-14f25fad608a"
      },
      "execution_count": null,
      "outputs": [
        {
          "output_type": "stream",
          "name": "stdout",
          "text": [
            "Enter a number6\n",
            "21.0\n"
          ]
        }
      ]
    },
    {
      "cell_type": "code",
      "source": [
        "#Armstrong number\n",
        "num = int(input(\"Enter 3-digit number : \"))\n",
        "sum = 0\n",
        "temp = num\n",
        "while temp > 0:\n",
        "    digit = temp % 10\n",
        "    sum += digit * digit * digit\n",
        "    temp = temp//10\n",
        "if sum==num:\n",
        "    print('It is an Armstrong number')\n",
        "else:\n",
        "    print('It is not an Armstrong number')"
      ],
      "metadata": {
        "colab": {
          "base_uri": "https://localhost:8080/"
        },
        "id": "Jhe53ho0i2Cq",
        "outputId": "c5f7892b-9eee-4d01-eaf8-260b458088fd"
      },
      "execution_count": 21,
      "outputs": [
        {
          "output_type": "stream",
          "name": "stdout",
          "text": [
            "Enter 3-digit number : 663\n",
            "It is not an Armstrong number\n"
          ]
        }
      ]
    },
    {
      "cell_type": "markdown",
      "source": [],
      "metadata": {
        "id": "k7pgtpZadqeX"
      }
    }
  ]
}