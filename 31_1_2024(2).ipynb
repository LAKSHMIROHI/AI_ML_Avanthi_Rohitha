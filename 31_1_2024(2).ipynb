{
  "cells": [
    {
      "cell_type": "markdown",
      "metadata": {
        "id": "view-in-github",
        "colab_type": "text"
      },
      "source": [
        "<a href=\"https://colab.research.google.com/github/LAKSHMIROHI/AI_ML_Avanthi_Rohitha/blob/main/31_1_2024(2).ipynb\" target=\"_parent\"><img src=\"https://colab.research.google.com/assets/colab-badge.svg\" alt=\"Open In Colab\"/></a>"
      ]
    },
    {
      "cell_type": "code",
      "execution_count": null,
      "metadata": {
        "colab": {
          "base_uri": "https://localhost:8080/"
        },
        "id": "sq87PI1SIZr-",
        "outputId": "82489d9f-a73a-4209-e6ae-2ff7b261fb0e"
      },
      "outputs": [
        {
          "name": "stdout",
          "output_type": "stream",
          "text": [
            "dairymilk\n",
            "snickers\n",
            "milkybar\n",
            "KitKat\n"
          ]
        }
      ],
      "source": [
        "#functions\n",
        "def chocolates():\n",
        "  print(\"dairymilk\")\n",
        "  print(\"snickers\")\n",
        "  print(\"milkybar\")\n",
        "chocolates()\n",
        "print(\"KitKat\")\n"
      ]
    },
    {
      "cell_type": "code",
      "execution_count": null,
      "metadata": {
        "colab": {
          "base_uri": "https://localhost:8080/"
        },
        "id": "FIqTfgdIInGy",
        "outputId": "99c36a50-6e3c-4b62-e050-975907109897"
      },
      "outputs": [
        {
          "name": "stdout",
          "output_type": "stream",
          "text": [
            "Good\n",
            "Good\n",
            "Bad\n"
          ]
        }
      ],
      "source": [
        "#both a and b can be used\n",
        "def number (a):\n",
        "  if a>=5:\n",
        "    print(\"Good\")\n",
        "  else:\n",
        "    print(\"Bad\")\n",
        "b=5\n",
        "number(b)\n",
        "b=10\n",
        "number(b)\n",
        "b=1\n",
        "number(b)\n"
      ]
    },
    {
      "cell_type": "code",
      "execution_count": null,
      "metadata": {
        "colab": {
          "base_uri": "https://localhost:8080/"
        },
        "id": "yJa1Tyi9Inwl",
        "outputId": "4e7ff23f-da6b-42e8-bbe5-944f4e424f4d"
      },
      "outputs": [
        {
          "name": "stdout",
          "output_type": "stream",
          "text": [
            "5\n",
            "6\n"
          ]
        }
      ],
      "source": [
        "#parameters\n",
        "def number(a,b):\n",
        "  print(a)\n",
        "  print(b)\n",
        "a=5\n",
        "b=6\n",
        "number(a,b)\n"
      ]
    },
    {
      "cell_type": "code",
      "execution_count": null,
      "metadata": {
        "colab": {
          "background_save": true,
          "base_uri": "https://localhost:8080/"
        },
        "id": "WPsM3dsaInzX",
        "outputId": "8cc81a05-ec28-4f26-f1b3-16cefa3adc8f"
      },
      "outputs": [
        {
          "name": "stdout",
          "output_type": "stream",
          "text": [
            "O\n",
            "fail \n",
            "D+\n",
            "B+\n",
            "A+\n"
          ]
        }
      ],
      "source": [
        "#write a function to calculate the grades of a student based on their marks\n",
        "def grade():\n",
        "   marks=int(input(\"enter the marks\"))\n",
        "   if marks>=90 and marks<=100:\n",
        "      print(\"O\")\n",
        "   elif marks>=80 and marks<=89:\n",
        "      print(\"A+\")\n",
        "   elif marks>=70 and marks<=79:\n",
        "      print(\"B+\")\n",
        "   elif marks>=60 and marks<=69:\n",
        "      print(\"C+\")\n",
        "   elif marks>=50 and marks<=59:\n",
        "      print(\"D+\")\n",
        "   else:\n",
        "      print(\"fail \")\n",
        "for i in range(10):\n",
        "  grade()\n"
      ]
    },
    {
      "cell_type": "code",
      "execution_count": 1,
      "metadata": {
        "id": "XgLXq7PEIn2v",
        "colab": {
          "base_uri": "https://localhost:8080/"
        },
        "outputId": "ef4864de-34b8-4ce1-c9a0-db5fa4555cc2"
      },
      "outputs": [
        {
          "output_type": "stream",
          "name": "stdout",
          "text": [
            "1 \n",
            "2 3 \n",
            "4 5 6 \n",
            "7 8 9 10 \n"
          ]
        }
      ],
      "source": [
        "#1,2,3..... Numbers printing\n",
        "count = 1\n",
        "for i in range(1,5):\n",
        "  for j in range(i):\n",
        "    print(count, end=\" \")\n",
        "    count += 1\n",
        "  print()"
      ]
    },
    {
      "cell_type": "code",
      "source": [
        "for i in range(4):\n",
        "    for j in range(4):\n",
        "        print(\"*\", end=\" \")\n",
        "    print()\n"
      ],
      "metadata": {
        "colab": {
          "base_uri": "https://localhost:8080/"
        },
        "id": "vzsAurKKRq1X",
        "outputId": "860dedc8-eb24-42ab-eafe-ec5e3b62aa97"
      },
      "execution_count": 2,
      "outputs": [
        {
          "output_type": "stream",
          "name": "stdout",
          "text": [
            "* * * * \n",
            "* * * * \n",
            "* * * * \n",
            "* * * * \n"
          ]
        }
      ]
    },
    {
      "cell_type": "code",
      "source": [
        "x = int(input(\"Enter a number\"))\n",
        "for i in range(x):\n",
        "    for j in range(x):\n",
        "        if i == 0 or i == x-1 or j == 0 or j == x-1:\n",
        "            print(\"*\", end=\" \")\n",
        "        else:\n",
        "            print(\" \", end=\" \")\n",
        "    print()"
      ],
      "metadata": {
        "colab": {
          "base_uri": "https://localhost:8080/"
        },
        "id": "AIoHtUIIRrDA",
        "outputId": "de8141ae-a582-435d-90a6-4688c3df657a"
      },
      "execution_count": 3,
      "outputs": [
        {
          "output_type": "stream",
          "name": "stdout",
          "text": [
            "Enter a number2\n",
            "* * \n",
            "* * \n"
          ]
        }
      ]
    },
    {
      "cell_type": "code",
      "source": [
        "rows = 4\n",
        "\n",
        "for i in range(rows):\n",
        "    for j in range(rows - i - 1):\n",
        "        print(\" \", end=\"\")\n",
        "\n",
        "    for k in range(2 * i + 1):\n",
        "        print(\"*\", end=\"\")\n",
        "    print()"
      ],
      "metadata": {
        "colab": {
          "base_uri": "https://localhost:8080/"
        },
        "id": "ZdpTymldSKwL",
        "outputId": "46e5c940-c0e4-460a-dda2-4eb66b9a9ff3"
      },
      "execution_count": 5,
      "outputs": [
        {
          "output_type": "stream",
          "name": "stdout",
          "text": [
            "   *\n",
            "  ***\n",
            " *****\n",
            "*******\n"
          ]
        }
      ]
    },
    {
      "cell_type": "code",
      "source": [
        "for i in range(1, 6):\n",
        "    for j in range(i):\n",
        "        print(\"*\", end=\"\")\n",
        "    print()\n"
      ],
      "metadata": {
        "colab": {
          "base_uri": "https://localhost:8080/"
        },
        "id": "4qUh6794SLae",
        "outputId": "c2db8429-4b93-485e-ecf3-8dedd1e42e17"
      },
      "execution_count": 4,
      "outputs": [
        {
          "output_type": "stream",
          "name": "stdout",
          "text": [
            "*\n",
            "**\n",
            "***\n",
            "****\n",
            "*****\n"
          ]
        }
      ]
    },
    {
      "cell_type": "code",
      "execution_count": null,
      "metadata": {
        "id": "zlWoyjaIJQNn",
        "colab": {
          "base_uri": "https://localhost:8080/"
        },
        "outputId": "d68ad011-ded8-4266-9449-d1615ecbbd75"
      },
      "outputs": [
        {
          "output_type": "stream",
          "name": "stdout",
          "text": [
            "********\n",
            "\n",
            "******\n",
            "\n",
            "****\n",
            "\n",
            "**\n",
            "\n"
          ]
        }
      ],
      "source": [
        "#star sums.....4,3,2,1...\n",
        "for i in range(4,0,-1):\n",
        "  for j in range(i):\n",
        "    print(\"*\",end=\"*\")\n",
        "  print(\"\\n\")\n"
      ]
    }
  ],
  "metadata": {
    "colab": {
      "provenance": [],
      "authorship_tag": "ABX9TyMBzFSKTvf6mTT3Lh+P5CxT",
      "include_colab_link": true
    },
    "kernelspec": {
      "display_name": "Python 3",
      "name": "python3"
    },
    "language_info": {
      "name": "python"
    }
  },
  "nbformat": 4,
  "nbformat_minor": 0
}